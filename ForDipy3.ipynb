{
 "cells": [
  {
   "cell_type": "markdown",
   "metadata": {},
   "source": [
    "KERAS / TF"
   ]
  },
  {
   "cell_type": "code",
   "execution_count": 1,
   "metadata": {},
   "outputs": [],
   "source": [
    "import nibabel as nib\n",
    "import numpy as np"
   ]
  },
  {
   "cell_type": "code",
   "execution_count": 2,
   "metadata": {},
   "outputs": [],
   "source": [
    "def load_resample(subj ):\n",
    "\n",
    "    input_data, [lx,lX,ly,lY,lz,lZ,rx,rX,ry,rY,rz,rZ] = pad(subj, 128)\n",
    "    in_max = np.percentile(input_data[np.nonzero(input_data)], 99.99)\n",
    "    input_data = normalize_img(input_data, in_max, 0, 1, 0)\n",
    "    input_data = np.squeeze(input_data)\n",
    "    input_vols = np.zeros(( 1, 128, 128, 128,1))\n",
    "    input_vols[0,:,:,:,0] = input_data\n",
    "\n",
    "    return tf.convert_to_tensor(input_vols, dtype=tf.float32), lx,lX,ly,lY,lz,lZ,rx,rX,ry,rY,rz,rZ, in_max\n",
    "\n",
    "def pad(img, sz):\n",
    "\n",
    "    tmp = np.zeros((sz, sz, sz))\n",
    "\n",
    "    diff = int((sz-img.shape[0])/2)\n",
    "    lx = max(diff,0)\n",
    "    lX = min(img.shape[0]+diff,sz)\n",
    "\n",
    "    diff = (img.shape[0]-sz) / 2\n",
    "    rx = max(int(np.floor(diff)),0)\n",
    "    rX = min(img.shape[0]-int(np.ceil(diff)),img.shape[0])\n",
    "\n",
    "    diff = int((sz - img.shape[1]) / 2)\n",
    "    ly = max(diff, 0)\n",
    "    lY = min(img.shape[1] + diff, sz)\n",
    "\n",
    "    diff = (img.shape[1] - sz) / 2\n",
    "    ry = max(int(np.floor(diff)), 0)\n",
    "    rY = min(img.shape[1] - int(np.ceil(diff)), img.shape[1])\n",
    "\n",
    "    diff = int((sz - img.shape[2]) / 2)\n",
    "    lz = max(diff, 0)\n",
    "    lZ = min(img.shape[2] + diff, sz)\n",
    "\n",
    "    diff = (img.shape[2] - sz) / 2\n",
    "    rz = max(int(np.floor(diff)), 0)\n",
    "    rZ = min(img.shape[2] - int(np.ceil(diff)), img.shape[2])\n",
    "\n",
    "    tmp[lx:lX,ly:lY,lz:lZ] = img[rx:rX,ry:rY,rz:rZ]\n",
    "    \n",
    "    return tmp, [lx,lX,ly,lY,lz,lZ,rx,rX,ry,rY,rz,rZ]\n",
    "\n",
    "def normalize_img(img, max_img, min_img, a_max, a_min):\n",
    "\n",
    "    img = (img - min_img)/(max_img - min_img)\n",
    "    img = np.clip(img, a_max=a_max, a_min=a_min)\n",
    "\n",
    "    return img"
   ]
  },
  {
   "cell_type": "code",
   "execution_count": 3,
   "metadata": {},
   "outputs": [
    {
     "name": "stderr",
     "output_type": "stream",
     "text": [
      "/home-nfs2/local/VANDERBILT/kanakap/py38-venv/lib/python3.8/site-packages/tqdm/auto.py:22: TqdmWarning: IProgress not found. Please update jupyter and ipywidgets. See https://ipywidgets.readthedocs.io/en/stable/user_install.html\n",
      "  from .autonotebook import tqdm as notebook_tqdm\n",
      "2024-02-16 09:56:56.258381: I tensorflow/core/util/port.cc:110] oneDNN custom operations are on. You may see slightly different numerical results due to floating-point round-off errors from different computation orders. To turn them off, set the environment variable `TF_ENABLE_ONEDNN_OPTS=0`.\n",
      "2024-02-16 09:56:56.260112: I tensorflow/tsl/cuda/cudart_stub.cc:28] Could not find cuda drivers on your machine, GPU will not be used.\n",
      "2024-02-16 09:56:56.292345: I tensorflow/tsl/cuda/cudart_stub.cc:28] Could not find cuda drivers on your machine, GPU will not be used.\n",
      "2024-02-16 09:56:56.293240: I tensorflow/core/platform/cpu_feature_guard.cc:182] This TensorFlow binary is optimized to use available CPU instructions in performance-critical operations.\n",
      "To enable the following instructions: AVX2 AVX512F AVX512_VNNI FMA, in other operations, rebuild TensorFlow with the appropriate compiler flags.\n",
      "2024-02-16 09:56:58.753607: W tensorflow/compiler/tf2tensorrt/utils/py_utils.cc:38] TF-TRT Warning: Could not find TensorRT\n",
      "/home-nfs2/local/VANDERBILT/kanakap/py38-venv/lib/python3.8/site-packages/tensorflow_addons/utils/tfa_eol_msg.py:23: UserWarning: \n",
      "\n",
      "TensorFlow Addons (TFA) has ended development and introduction of new features.\n",
      "TFA has entered a minimal maintenance and release mode until a planned end of life in May 2024.\n",
      "Please modify downstream libraries to take dependencies from other repositories in our TensorFlow community (e.g. Keras, Keras-CV, and Keras-NLP). \n",
      "\n",
      "For more information see: https://github.com/tensorflow/addons/issues/2807 \n",
      "\n",
      "  warnings.warn(\n"
     ]
    }
   ],
   "source": [
    "import logging\n",
    "from scipy.ndimage import gaussian_filter\n",
    "from dipy.nn.utils import transform_img, recover_img\n",
    "\n",
    "from dipy.data import get_fnames\n",
    "from dipy.testing.decorators import doctest_skip_parser\n",
    "from dipy.utils.optpkg import optional_package\n",
    "from dipy.nn.utils import set_logger_level\n",
    "\n",
    "tf, have_tf, _ = optional_package('tensorflow')#, min_version='2.0.0')\n",
    "tfa, have_tfa, _ = optional_package('tensorflow_addons')\n",
    "if have_tf and have_tfa:\n",
    "    from tensorflow.keras.models import Model\n",
    "    from tensorflow.keras.layers import MaxPool3D, Conv3DTranspose\n",
    "    from tensorflow.keras.layers import Conv3D, LeakyReLU\n",
    "    from tensorflow.keras.layers import Concatenate, Layer\n",
    "    from tensorflow_addons.layers import InstanceNormalization\n",
    "else:\n",
    "    logging.warning('This model requires Tensorflow.\\\n",
    "                    Please install these packages using \\\n",
    "                    pip. If using mac, please refer to this \\\n",
    "                    link for installation. \\\n",
    "                    https://github.com/apple/tensorflow_macos')\n",
    "\n",
    "\n",
    "logging.basicConfig()\n",
    "logger = logging.getLogger('histo_resdnn')\n",
    "\n",
    "\n",
    "class EncoderBlock(Layer):\n",
    "    def __init__(self, out_channels, kernel_size, strides, padding):\n",
    "        super(EncoderBlock, self).__init__()\n",
    "        self.conv3d = Conv3D(out_channels,\n",
    "                             kernel_size,\n",
    "                             strides=strides,\n",
    "                             padding=padding,\n",
    "                             use_bias=False)\n",
    "        self.instnorm = InstanceNormalization(axis=-1, center=False, scale=False)\n",
    "        self.activation = LeakyReLU(0.01)\n",
    "\n",
    "    def call(self, input):\n",
    "        x = self.conv3d(input)\n",
    "        x = self.instnorm(x)\n",
    "        x = self.activation(x)\n",
    "\n",
    "        return x\n",
    "\n",
    "class DecoderBlock(Layer):\n",
    "    def __init__(self, out_channels, kernel_size, strides, padding):\n",
    "        super(DecoderBlock, self).__init__()\n",
    "        self.conv3d = Conv3DTranspose(out_channels,\n",
    "                                      kernel_size,\n",
    "                                      strides=strides,\n",
    "                                      padding=padding,\n",
    "                                      use_bias=False)\n",
    "        self.instnorm = InstanceNormalization(axis=-1, center=False, scale=False)\n",
    "        self.activation = LeakyReLU(0.01)\n",
    "\n",
    "    def call(self, input):\n",
    "        x = self.conv3d(input)\n",
    "        x = self.instnorm(x)\n",
    "        x = self.activation(x)\n",
    "\n",
    "        return x\n",
    "\n",
    "def UNet3D(input_shape):\n",
    "    inputs = tf.keras.Input(input_shape)\n",
    "    # Encode\n",
    "    x = EncoderBlock(32, kernel_size=3,\n",
    "                     strides=1, padding='same')(inputs)\n",
    "    syn0 = EncoderBlock(64, kernel_size=3,\n",
    "                        strides=1, padding='same')(x)\n",
    "\n",
    "    x = MaxPool3D()(syn0)\n",
    "    x = EncoderBlock(64, kernel_size=3,\n",
    "                     strides=1, padding='same')(x)\n",
    "    syn1 = EncoderBlock(128, kernel_size=3,\n",
    "                        strides=1, padding='same')(x)\n",
    "\n",
    "    x = MaxPool3D()(syn1)\n",
    "    x = EncoderBlock(128, kernel_size=3,\n",
    "                     strides=1, padding='same')(x)\n",
    "    syn2 = EncoderBlock(256, kernel_size=3,\n",
    "                        strides=1, padding='same')(x)\n",
    "\n",
    "    x = MaxPool3D()(syn2)\n",
    "    x = EncoderBlock(256, kernel_size=3,\n",
    "                     strides=1, padding='same')(x)\n",
    "    x = EncoderBlock(512, kernel_size=3,\n",
    "                     strides=1, padding='same')(x)\n",
    "\n",
    "    # Last layer without relu\n",
    "    x = Conv3D(512, kernel_size=1,\n",
    "               strides=1, padding='same')(x)\n",
    "\n",
    "    x = DecoderBlock(512, kernel_size=2,\n",
    "                     strides=2, padding='valid')(x)\n",
    "\n",
    "    x = Concatenate()([x, syn2])\n",
    "\n",
    "    x = DecoderBlock(256, kernel_size=3,\n",
    "                     strides=1, padding='same')(x)\n",
    "    x = DecoderBlock(256, kernel_size=3,\n",
    "                     strides=1, padding='same')(x)\n",
    "    x = DecoderBlock(256, kernel_size=2,\n",
    "                     strides=2, padding='valid')(x)\n",
    "\n",
    "    x = Concatenate()([x, syn1])\n",
    "\n",
    "    x = DecoderBlock(128, kernel_size=3,\n",
    "                     strides=1, padding='same')(x)\n",
    "    x = DecoderBlock(128, kernel_size=3,\n",
    "                     strides=1, padding='same')(x)\n",
    "    x = DecoderBlock(128, kernel_size=2,\n",
    "                     strides=2, padding='valid')(x)\n",
    "\n",
    "    x = Concatenate()([x, syn0])\n",
    "\n",
    "    x = DecoderBlock(64, kernel_size=3,\n",
    "                     strides=1, padding='same')(x)\n",
    "    x = DecoderBlock(64, kernel_size=3,\n",
    "                     strides=1, padding='same')(x)\n",
    "\n",
    "    x = DecoderBlock(1, kernel_size=1,\n",
    "                     strides=1, padding='valid')(x)\n",
    "\n",
    "    # Last layer without relu\n",
    "    out = Conv3DTranspose(1, kernel_size=1,\n",
    "                          strides=1, padding='valid')(x)\n",
    "\n",
    "    return Model(inputs, out)"
   ]
  },
  {
   "cell_type": "code",
   "execution_count": 4,
   "metadata": {},
   "outputs": [
    {
     "name": "stderr",
     "output_type": "stream",
     "text": [
      "2024-02-16 09:57:02.478213: W tensorflow/core/common_runtime/gpu/gpu_device.cc:1960] Cannot dlopen some GPU libraries. Please make sure the missing libraries mentioned above are installed properly if you would like to use GPU. Follow the guide at https://www.tensorflow.org/install/gpu for how to download and setup the required libraries for your platform.\n",
      "Skipping registering GPU devices...\n"
     ]
    },
    {
     "name": "stdout",
     "output_type": "stream",
     "text": [
      "1/1 [==============================] - 5s 5s/step\n"
     ]
    },
    {
     "name": "stderr",
     "output_type": "stream",
     "text": [
      "/tmp/ipykernel_65007/3842347422.py:15: RuntimeWarning: overflow encountered in exp\n",
      "  field = np.exp(logfield)\n"
     ]
    }
   ],
   "source": [
    "\"Run the model inference with h5 weights\"\n",
    "input_file = '/nfs/masi/kanakap/projects/DeepN4/data/IXI015-HH-1258-T1.nii.gz'\n",
    "img = nib.load(input_file).get_fdata()\n",
    "img_affine = nib.load(input_file).affine\n",
    "img_header = nib.load(input_file).header\n",
    "\n",
    "model = UNet3D(input_shape=(128, 128, 128, 1))\n",
    "\n",
    "resampled_T1, affine2 = transform_img(img,img_affine)\n",
    "in_features, lx,lX,ly,lY,lz,lZ,rx,rX,ry,rY,rz,rZ, in_max = load_resample(resampled_T1)\n",
    "model.load_weights('/nfs/masi/kanakap/projects/DeepN4/src/trained_model_tf/model_weights5.h5')\n",
    "\n",
    "\n",
    "logfield = model.predict(in_features)\n",
    "field = np.exp(logfield)\n",
    "field = field.squeeze()\n",
    "\n",
    "final_field = np.zeros([resampled_T1.shape[0], resampled_T1.shape[1], resampled_T1.shape[2]])\n",
    "final_field[rx:rX,ry:rY,rz:rZ] = field[lx:lX,ly:lY,lz:lZ]\n",
    "final_fields = gaussian_filter(final_field, sigma=3)\n",
    "upsample_final_field = recover_img(final_fields, affine2, img.shape)\n",
    "\n",
    "\n",
    "with np.errstate(divide='ignore', invalid='ignore'):\n",
    "        final_corrected = np.where(upsample_final_field != 0, img / upsample_final_field, 0)\n",
    "\n",
    "nii = nib.Nifti1Image(final_corrected, affine=img_affine, header=img_header)\n",
    "nib.save(nii, '/nfs/masi/kanakap/projects/DeepN4/data/dipy_img_corrected_IXI015-HH-1258-T1.nii.gz')  "
   ]
  },
  {
   "cell_type": "code",
   "execution_count": 7,
   "metadata": {},
   "outputs": [],
   "source": [
    "THRESHOLD = 1.0\n",
    "below_threshold_mask = (np.abs(upsample_final_field) < THRESHOLD)\n",
    "with np.errstate(divide='ignore', invalid='ignore'):\n",
    "        final_corrected = np.where(below_threshold_mask, 0, img / upsample_final_field)"
   ]
  },
  {
   "cell_type": "code",
   "execution_count": 34,
   "metadata": {},
   "outputs": [],
   "source": [
    "nii = nib.Nifti1Image(final_corrected, affine=img_affine, header=img_header)\n",
    "nib.save(nii, '/nfs/masi/kanakap/projects/DeepN4/data/dipy_img_corrected_IXI015-HH-1258-T1.nii.gz')"
   ]
  },
  {
   "cell_type": "code",
   "execution_count": 93,
   "metadata": {},
   "outputs": [
    {
     "data": {
      "text/plain": [
       "numpy.ndarray"
      ]
     },
     "execution_count": 93,
     "metadata": {},
     "output_type": "execute_result"
    }
   ],
   "source": [
    "np.exp(np.squeeze(logfield))"
   ]
  },
  {
   "cell_type": "code",
   "execution_count": 22,
   "metadata": {},
   "outputs": [
    {
     "data": {
      "text/plain": [
       "(1, 128, 128, 128, 1)"
      ]
     },
     "execution_count": 22,
     "metadata": {},
     "output_type": "execute_result"
    }
   ],
   "source": [
    "np.shape(input_vols)"
   ]
  },
  {
   "cell_type": "code",
   "execution_count": 13,
   "metadata": {},
   "outputs": [
    {
     "data": {
      "text/plain": [
       "<matplotlib.colorbar.Colorbar at 0x7eff6ad31b20>"
      ]
     },
     "execution_count": 13,
     "metadata": {},
     "output_type": "execute_result"
    },
    {
     "data": {
      "image/png": "[encoded data removed]",
      "text/plain": [
       "<Figure size 640x480 with 2 Axes>"
      ]
     },
     "metadata": {},
     "output_type": "display_data"
    }
   ],
   "source": [
    "import matplotlib.pyplot as plt\n",
    "plt.imshow(np.squeeze(final_corrected)[:,:,80] , vmin=0, vmax=10)\n",
    "plt.colorbar()"
   ]
  },
  {
   "cell_type": "code",
   "execution_count": null,
   "metadata": {},
   "outputs": [],
   "source": []
  }
 ],
 "metadata": {
  "kernelspec": {
   "display_name": "py38-venv",
   "language": "python",
   "name": "python3"
  },
  "language_info": {
   "codemirror_mode": {
    "name": "ipython",
    "version": 3
   },
   "file_extension": ".py",
   "mimetype": "text/x-python",
   "name": "python",
   "nbconvert_exporter": "python",
   "pygments_lexer": "ipython3",
   "version": "3.8.10"
  }
 },
 "nbformat": 4,
 "nbformat_minor": 2
}
